{
 "cells": [
  {
   "cell_type": "code",
   "execution_count": 1,
   "metadata": {},
   "outputs": [],
   "source": [
    "import cv2\n",
    "import numpy as np\n",
    "import os\n",
    "from tqdm import tqdm\n",
    "import mtcnn\n",
    "from PIL import Image\n",
    "import pandas as pd\n",
    "import itertools\n",
    "import matplotlib.pyplot as plt\n",
    "\n",
    "from sklearn.preprocessing import LabelEncoder\n",
    "from sklearn.model_selection import train_test_split\n",
    "from sklearn.metrics import classification_report\n",
    "from sklearn.metrics import confusion_matrix\n",
    "import keras\n",
    "from keras.models import Sequential,Model\n",
    "from keras.layers import Dense,Activation,Input\n",
    "from keras.utils import to_categorical\n",
    "from keras.layers import Conv2D, MaxPool2D, Flatten"
   ]
  },
  {
   "cell_type": "code",
   "execution_count": 4,
   "metadata": {},
   "outputs": [],
   "source": []
  },
  {
   "cell_type": "code",
   "execution_count": 2,
   "metadata": {},
   "outputs": [
    {
     "name": "stdout",
     "output_type": "stream",
     "text": [
      "Enter name: abn\n"
     ]
    },
    {
     "name": "stderr",
     "output_type": "stream",
     "text": [
      "\r",
      "  0%|                                                                                           | 0/25 [00:00<?, ?it/s]"
     ]
    },
    {
     "name": "stdout",
     "output_type": "stream",
     "text": [
      "1/1 [==============================] - 0s 204ms/step\n",
      "1/1 [==============================] - 0s 112ms/step\n",
      "1/1 [==============================] - 0s 25ms/step\n",
      "1/1 [==============================] - 0s 23ms/step\n",
      "1/1 [==============================] - 0s 22ms/step\n",
      "1/1 [==============================] - 0s 24ms/step\n",
      "1/1 [==============================] - 0s 25ms/step\n",
      "1/1 [==============================] - 0s 9ms/step\n",
      "1/1 [==============================] - 0s 16ms/step\n",
      "1/1 [==============================] - 0s 21ms/step\n",
      "3/3 [==============================] - 0s 9ms/step\n",
      "1/1 [==============================] - 0s 188ms/step\n"
     ]
    },
    {
     "name": "stderr",
     "output_type": "stream",
     "text": [
      "\r",
      "  4%|███▎                                                                               | 1/25 [00:02<00:58,  2.42s/it]"
     ]
    },
    {
     "name": "stdout",
     "output_type": "stream",
     "text": [
      "1/1 [==============================] - 0s 47ms/step\n",
      "1/1 [==============================] - 0s 37ms/step\n",
      "1/1 [==============================] - 0s 28ms/step\n",
      "1/1 [==============================] - 0s 26ms/step\n",
      "1/1 [==============================] - 0s 19ms/step\n",
      "1/1 [==============================] - 0s 17ms/step\n",
      "1/1 [==============================] - 0s 25ms/step\n",
      "1/1 [==============================] - 0s 29ms/step\n",
      "1/1 [==============================] - 0s 15ms/step\n",
      "1/1 [==============================] - 0s 32ms/step\n",
      "3/3 [==============================] - 0s 8ms/step\n",
      "1/1 [==============================] - 0s 31ms/step\n"
     ]
    },
    {
     "name": "stderr",
     "output_type": "stream",
     "text": [
      "\r",
      "  8%|██████▋                                                                            | 2/25 [00:03<00:40,  1.76s/it]"
     ]
    },
    {
     "name": "stdout",
     "output_type": "stream",
     "text": [
      "1/1 [==============================] - 0s 49ms/step\n",
      "1/1 [==============================] - 0s 32ms/step\n",
      "1/1 [==============================] - 0s 20ms/step\n",
      "1/1 [==============================] - 0s 22ms/step\n",
      "1/1 [==============================] - 0s 27ms/step\n",
      "1/1 [==============================] - 0s 31ms/step\n",
      "1/1 [==============================] - 0s 22ms/step\n",
      "1/1 [==============================] - 0s 13ms/step\n",
      "1/1 [==============================] - 0s 23ms/step\n",
      "1/1 [==============================] - 0s 16ms/step\n",
      "3/3 [==============================] - 0s 9ms/step\n",
      "1/1 [==============================] - 0s 31ms/step\n"
     ]
    },
    {
     "name": "stderr",
     "output_type": "stream",
     "text": [
      "\r",
      " 12%|█████████▉                                                                         | 3/25 [00:04<00:33,  1.53s/it]"
     ]
    },
    {
     "name": "stdout",
     "output_type": "stream",
     "text": [
      "1/1 [==============================] - 0s 49ms/step\n",
      "1/1 [==============================] - 0s 32ms/step\n",
      "1/1 [==============================] - 0s 32ms/step\n",
      "1/1 [==============================] - 0s 22ms/step\n",
      "1/1 [==============================] - 0s 27ms/step\n",
      "1/1 [==============================] - 0s 31ms/step\n",
      "1/1 [==============================] - 0s 29ms/step\n",
      "1/1 [==============================] - 0s 19ms/step\n",
      "1/1 [==============================] - 0s 31ms/step\n",
      "1/1 [==============================] - 0s 19ms/step\n",
      "3/3 [==============================] - 0s 2ms/step\n",
      "1/1 [==============================] - 0s 47ms/step\n"
     ]
    },
    {
     "name": "stderr",
     "output_type": "stream",
     "text": [
      "\r",
      " 16%|█████████████▎                                                                     | 4/25 [00:06<00:31,  1.48s/it]"
     ]
    },
    {
     "name": "stdout",
     "output_type": "stream",
     "text": [
      "1/1 [==============================] - 0s 52ms/step\n",
      "1/1 [==============================] - 0s 35ms/step\n",
      "1/1 [==============================] - 0s 39ms/step\n",
      "1/1 [==============================] - 0s 47ms/step\n",
      "1/1 [==============================] - 0s 31ms/step\n",
      "1/1 [==============================] - 0s 34ms/step\n",
      "1/1 [==============================] - 0s 19ms/step\n",
      "1/1 [==============================] - 0s 21ms/step\n",
      "1/1 [==============================] - 0s 11ms/step\n",
      "1/1 [==============================] - 0s 22ms/step\n",
      "3/3 [==============================] - 0s 12ms/step\n",
      "1/1 [==============================] - 0s 31ms/step\n"
     ]
    },
    {
     "name": "stderr",
     "output_type": "stream",
     "text": [
      "\r",
      " 20%|████████████████▌                                                                  | 5/25 [00:07<00:29,  1.49s/it]"
     ]
    },
    {
     "name": "stdout",
     "output_type": "stream",
     "text": [
      "1/1 [==============================] - 0s 43ms/step\n",
      "1/1 [==============================] - 0s 26ms/step\n",
      "1/1 [==============================] - 0s 25ms/step\n",
      "1/1 [==============================] - 0s 21ms/step\n",
      "1/1 [==============================] - 0s 26ms/step\n",
      "1/1 [==============================] - 0s 13ms/step\n",
      "1/1 [==============================] - 0s 32ms/step\n",
      "1/1 [==============================] - 0s 19ms/step\n",
      "1/1 [==============================] - 0s 22ms/step\n",
      "1/1 [==============================] - 0s 24ms/step\n",
      "3/3 [==============================] - 0s 10ms/step\n",
      "1/1 [==============================] - 0s 31ms/step\n"
     ]
    },
    {
     "name": "stderr",
     "output_type": "stream",
     "text": [
      "\r",
      " 24%|███████████████████▉                                                               | 6/25 [00:09<00:27,  1.46s/it]"
     ]
    },
    {
     "name": "stdout",
     "output_type": "stream",
     "text": [
      "1/1 [==============================] - 0s 46ms/step\n",
      "1/1 [==============================] - 0s 26ms/step\n",
      "1/1 [==============================] - 0s 19ms/step\n",
      "1/1 [==============================] - 0s 21ms/step\n",
      "1/1 [==============================] - 0s 22ms/step\n",
      "1/1 [==============================] - 0s 13ms/step\n",
      "1/1 [==============================] - 0s 18ms/step\n",
      "1/1 [==============================] - 0s 24ms/step\n",
      "1/1 [==============================] - 0s 27ms/step\n",
      "1/1 [==============================] - 0s 20ms/step\n",
      "2/2 [==============================] - 0s 18ms/step\n",
      "1/1 [==============================] - 0s 25ms/step\n"
     ]
    },
    {
     "name": "stderr",
     "output_type": "stream",
     "text": [
      "\r",
      " 28%|███████████████████████▏                                                           | 7/25 [00:10<00:24,  1.38s/it]"
     ]
    },
    {
     "name": "stdout",
     "output_type": "stream",
     "text": [
      "1/1 [==============================] - 0s 49ms/step\n",
      "1/1 [==============================] - 0s 26ms/step\n",
      "1/1 [==============================] - 0s 33ms/step\n",
      "1/1 [==============================] - 0s 24ms/step\n",
      "1/1 [==============================] - 0s 19ms/step\n",
      "1/1 [==============================] - 0s 22ms/step\n",
      "1/1 [==============================] - 0s 23ms/step\n",
      "1/1 [==============================] - 0s 23ms/step\n",
      "1/1 [==============================] - 0s 12ms/step\n",
      "1/1 [==============================] - 0s 25ms/step\n",
      "3/3 [==============================] - 0s 14ms/step\n",
      "1/1 [==============================] - 0s 23ms/step\n"
     ]
    },
    {
     "name": "stderr",
     "output_type": "stream",
     "text": [
      "\r",
      " 32%|██████████████████████████▌                                                        | 8/25 [00:11<00:22,  1.32s/it]"
     ]
    },
    {
     "name": "stdout",
     "output_type": "stream",
     "text": [
      "1/1 [==============================] - 0s 55ms/step\n",
      "1/1 [==============================] - 0s 48ms/step\n",
      "1/1 [==============================] - 0s 36ms/step\n",
      "1/1 [==============================] - 0s 19ms/step\n",
      "1/1 [==============================] - 0s 20ms/step\n",
      "1/1 [==============================] - 0s 34ms/step\n",
      "1/1 [==============================] - 0s 20ms/step\n",
      "1/1 [==============================] - 0s 12ms/step\n",
      "1/1 [==============================] - 0s 24ms/step\n",
      "1/1 [==============================] - 0s 19ms/step\n",
      "3/3 [==============================] - 0s 15ms/step\n",
      "1/1 [==============================] - 0s 32ms/step\n"
     ]
    },
    {
     "name": "stderr",
     "output_type": "stream",
     "text": [
      "\r",
      " 36%|█████████████████████████████▉                                                     | 9/25 [00:13<00:21,  1.34s/it]"
     ]
    },
    {
     "name": "stdout",
     "output_type": "stream",
     "text": [
      "1/1 [==============================] - 0s 54ms/step\n",
      "1/1 [==============================] - 0s 32ms/step\n",
      "1/1 [==============================] - 0s 37ms/step\n",
      "1/1 [==============================] - 0s 25ms/step\n",
      "1/1 [==============================] - 0s 16ms/step\n",
      "1/1 [==============================] - 0s 26ms/step\n",
      "1/1 [==============================] - 0s 23ms/step\n",
      "1/1 [==============================] - 0s 23ms/step\n",
      "1/1 [==============================] - 0s 13ms/step\n",
      "1/1 [==============================] - 0s 24ms/step\n",
      "3/3 [==============================] - 0s 8ms/step\n",
      "1/1 [==============================] - 0s 20ms/step\n"
     ]
    },
    {
     "name": "stderr",
     "output_type": "stream",
     "text": [
      "\r",
      " 40%|████████████████████████████████▊                                                 | 10/25 [00:14<00:19,  1.30s/it]"
     ]
    },
    {
     "name": "stdout",
     "output_type": "stream",
     "text": [
      "1/1 [==============================] - 0s 52ms/step\n",
      "1/1 [==============================] - 0s 38ms/step\n",
      "1/1 [==============================] - 0s 28ms/step\n",
      "1/1 [==============================] - 0s 28ms/step\n",
      "1/1 [==============================] - 0s 18ms/step\n",
      "1/1 [==============================] - 0s 28ms/step\n",
      "1/1 [==============================] - 0s 16ms/step\n",
      "1/1 [==============================] - 0s 27ms/step\n",
      "1/1 [==============================] - 0s 22ms/step\n",
      "1/1 [==============================] - 0s 16ms/step\n",
      "3/3 [==============================] - 0s 14ms/step\n",
      "1/1 [==============================] - 0s 18ms/step\n"
     ]
    },
    {
     "name": "stderr",
     "output_type": "stream",
     "text": [
      "\r",
      " 44%|████████████████████████████████████                                              | 11/25 [00:15<00:17,  1.27s/it]"
     ]
    },
    {
     "name": "stdout",
     "output_type": "stream",
     "text": [
      "1/1 [==============================] - 0s 49ms/step\n",
      "1/1 [==============================] - 0s 25ms/step\n",
      "1/1 [==============================] - 0s 24ms/step\n",
      "1/1 [==============================] - 0s 33ms/step\n",
      "1/1 [==============================] - 0s 28ms/step\n",
      "1/1 [==============================] - 0s 23ms/step\n",
      "1/1 [==============================] - 0s 16ms/step\n",
      "1/1 [==============================] - 0s 24ms/step\n",
      "1/1 [==============================] - 0s 24ms/step\n",
      "1/1 [==============================] - 0s 31ms/step\n",
      "3/3 [==============================] - 0s 14ms/step\n",
      "1/1 [==============================] - 0s 26ms/step\n"
     ]
    },
    {
     "name": "stderr",
     "output_type": "stream",
     "text": [
      "\r",
      " 48%|███████████████████████████████████████▎                                          | 12/25 [00:16<00:16,  1.26s/it]"
     ]
    },
    {
     "name": "stdout",
     "output_type": "stream",
     "text": [
      "1/1 [==============================] - 0s 53ms/step\n",
      "1/1 [==============================] - 0s 47ms/step\n",
      "1/1 [==============================] - 0s 33ms/step\n",
      "1/1 [==============================] - 0s 18ms/step\n",
      "1/1 [==============================] - 0s 26ms/step\n",
      "1/1 [==============================] - 0s 24ms/step\n",
      "1/1 [==============================] - 0s 21ms/step\n",
      "1/1 [==============================] - 0s 24ms/step\n",
      "1/1 [==============================] - 0s 20ms/step\n",
      "1/1 [==============================] - 0s 20ms/step\n",
      "2/2 [==============================] - 0s 23ms/step\n",
      "1/1 [==============================] - 0s 32ms/step\n"
     ]
    },
    {
     "name": "stderr",
     "output_type": "stream",
     "text": [
      "\r",
      " 52%|██████████████████████████████████████████▋                                       | 13/25 [00:17<00:14,  1.25s/it]"
     ]
    },
    {
     "name": "stdout",
     "output_type": "stream",
     "text": [
      "1/1 [==============================] - 0s 46ms/step\n",
      "1/1 [==============================] - 0s 26ms/step\n",
      "1/1 [==============================] - 0s 29ms/step\n",
      "1/1 [==============================] - 0s 15ms/step\n",
      "1/1 [==============================] - 0s 23ms/step\n",
      "1/1 [==============================] - 0s 13ms/step\n",
      "1/1 [==============================] - 0s 24ms/step\n",
      "1/1 [==============================] - 0s 19ms/step\n",
      "1/1 [==============================] - 0s 24ms/step\n",
      "1/1 [==============================] - 0s 23ms/step\n",
      "3/3 [==============================] - 0s 10ms/step\n",
      "1/1 [==============================] - 0s 32ms/step\n"
     ]
    },
    {
     "name": "stderr",
     "output_type": "stream",
     "text": [
      "\r",
      " 56%|█████████████████████████████████████████████▉                                    | 14/25 [00:19<00:13,  1.23s/it]"
     ]
    },
    {
     "name": "stdout",
     "output_type": "stream",
     "text": [
      "1/1 [==============================] - 0s 50ms/step\n",
      "1/1 [==============================] - 0s 39ms/step\n",
      "1/1 [==============================] - 0s 36ms/step\n",
      "1/1 [==============================] - 0s 17ms/step\n",
      "1/1 [==============================] - 0s 28ms/step\n",
      "1/1 [==============================] - 0s 26ms/step\n",
      "1/1 [==============================] - 0s 22ms/step\n",
      "1/1 [==============================] - 0s 31ms/step\n",
      "1/1 [==============================] - 0s 30ms/step\n",
      "1/1 [==============================] - 0s 23ms/step\n",
      "3/3 [==============================] - 0s 8ms/step\n",
      "1/1 [==============================] - 0s 16ms/step\n"
     ]
    },
    {
     "name": "stderr",
     "output_type": "stream",
     "text": [
      "\r",
      " 60%|█████████████████████████████████████████████████▏                                | 15/25 [00:20<00:12,  1.24s/it]"
     ]
    },
    {
     "name": "stdout",
     "output_type": "stream",
     "text": [
      "1/1 [==============================] - 0s 63ms/step\n",
      "1/1 [==============================] - 0s 32ms/step\n",
      "1/1 [==============================] - 0s 28ms/step\n",
      "1/1 [==============================] - 0s 14ms/step\n",
      "1/1 [==============================] - 0s 18ms/step\n",
      "1/1 [==============================] - 0s 16ms/step\n",
      "1/1 [==============================] - 0s 21ms/step\n",
      "1/1 [==============================] - 0s 18ms/step\n",
      "1/1 [==============================] - 0s 24ms/step\n",
      "1/1 [==============================] - 0s 22ms/step\n",
      "3/3 [==============================] - 0s 7ms/step\n",
      "1/1 [==============================] - 0s 54ms/step\n"
     ]
    },
    {
     "name": "stderr",
     "output_type": "stream",
     "text": [
      "\r",
      " 64%|████████████████████████████████████████████████████▍                             | 16/25 [00:21<00:11,  1.25s/it]"
     ]
    },
    {
     "name": "stdout",
     "output_type": "stream",
     "text": [
      "1/1 [==============================] - 0s 53ms/step\n",
      "1/1 [==============================] - 0s 33ms/step\n",
      "1/1 [==============================] - 0s 29ms/step\n",
      "1/1 [==============================] - 0s 26ms/step\n",
      "1/1 [==============================] - 0s 24ms/step\n",
      "1/1 [==============================] - 0s 28ms/step\n",
      "1/1 [==============================] - 0s 16ms/step\n",
      "1/1 [==============================] - 0s 24ms/step\n",
      "1/1 [==============================] - 0s 20ms/step\n",
      "1/1 [==============================] - 0s 27ms/step\n",
      "3/3 [==============================] - 0s 9ms/step\n",
      "1/1 [==============================] - 0s 31ms/step\n"
     ]
    },
    {
     "name": "stderr",
     "output_type": "stream",
     "text": [
      "\r",
      " 68%|███████████████████████████████████████████████████████▊                          | 17/25 [00:22<00:09,  1.24s/it]"
     ]
    },
    {
     "name": "stdout",
     "output_type": "stream",
     "text": [
      "1/1 [==============================] - 0s 41ms/step\n",
      "1/1 [==============================] - 0s 26ms/step\n",
      "1/1 [==============================] - 0s 21ms/step\n",
      "1/1 [==============================] - 0s 24ms/step\n",
      "1/1 [==============================] - 0s 27ms/step\n",
      "1/1 [==============================] - 0s 16ms/step\n",
      "1/1 [==============================] - 0s 26ms/step\n",
      "1/1 [==============================] - 0s 20ms/step\n",
      "1/1 [==============================] - 0s 28ms/step\n",
      "1/1 [==============================] - 0s 20ms/step\n",
      "3/3 [==============================] - 0s 8ms/step\n",
      "1/1 [==============================] - 0s 47ms/step\n"
     ]
    },
    {
     "name": "stderr",
     "output_type": "stream",
     "text": [
      "\r",
      " 72%|███████████████████████████████████████████████████████████                       | 18/25 [00:24<00:08,  1.24s/it]"
     ]
    },
    {
     "name": "stdout",
     "output_type": "stream",
     "text": [
      "1/1 [==============================] - 0s 42ms/step\n",
      "1/1 [==============================] - 0s 40ms/step\n",
      "1/1 [==============================] - 0s 31ms/step\n",
      "1/1 [==============================] - 0s 31ms/step\n",
      "1/1 [==============================] - 0s 27ms/step\n",
      "1/1 [==============================] - 0s 30ms/step\n",
      "1/1 [==============================] - 0s 20ms/step\n",
      "1/1 [==============================] - 0s 29ms/step\n",
      "1/1 [==============================] - 0s 18ms/step\n",
      "1/1 [==============================] - 0s 24ms/step\n",
      "3/3 [==============================] - 0s 10ms/step\n",
      "1/1 [==============================] - 0s 27ms/step\n"
     ]
    },
    {
     "name": "stderr",
     "output_type": "stream",
     "text": [
      "\r",
      " 76%|██████████████████████████████████████████████████████████████▎                   | 19/25 [00:25<00:07,  1.25s/it]"
     ]
    },
    {
     "name": "stdout",
     "output_type": "stream",
     "text": [
      "1/1 [==============================] - 0s 50ms/step\n",
      "1/1 [==============================] - 0s 26ms/step\n",
      "1/1 [==============================] - 0s 20ms/step\n",
      "1/1 [==============================] - 0s 23ms/step\n",
      "1/1 [==============================] - 0s 26ms/step\n",
      "1/1 [==============================] - 0s 20ms/step\n",
      "1/1 [==============================] - 0s 12ms/step\n",
      "1/1 [==============================] - 0s 18ms/step\n",
      "1/1 [==============================] - 0s 15ms/step\n",
      "1/1 [==============================] - 0s 31ms/step\n",
      "3/3 [==============================] - 0s 11ms/step\n",
      "1/1 [==============================] - 0s 36ms/step\n"
     ]
    },
    {
     "name": "stderr",
     "output_type": "stream",
     "text": [
      "\r",
      " 80%|█████████████████████████████████████████████████████████████████▌                | 20/25 [00:26<00:06,  1.25s/it]"
     ]
    },
    {
     "name": "stdout",
     "output_type": "stream",
     "text": [
      "1/1 [==============================] - 0s 49ms/step\n",
      "1/1 [==============================] - 0s 39ms/step\n",
      "1/1 [==============================] - 0s 32ms/step\n",
      "1/1 [==============================] - 0s 28ms/step\n",
      "1/1 [==============================] - 0s 24ms/step\n",
      "1/1 [==============================] - 0s 18ms/step\n",
      "1/1 [==============================] - 0s 26ms/step\n",
      "1/1 [==============================] - 0s 20ms/step\n",
      "1/1 [==============================] - 0s 16ms/step\n",
      "1/1 [==============================] - 0s 26ms/step\n",
      "3/3 [==============================] - 0s 13ms/step\n",
      "1/1 [==============================] - 0s 24ms/step\n"
     ]
    },
    {
     "name": "stderr",
     "output_type": "stream",
     "text": [
      "\r",
      " 84%|████████████████████████████████████████████████████████████████████▉             | 21/25 [00:27<00:04,  1.24s/it]"
     ]
    },
    {
     "name": "stdout",
     "output_type": "stream",
     "text": [
      "1/1 [==============================] - 0s 44ms/step\n",
      "1/1 [==============================] - 0s 33ms/step\n",
      "1/1 [==============================] - 0s 30ms/step\n",
      "1/1 [==============================] - 0s 30ms/step\n",
      "1/1 [==============================] - 0s 22ms/step\n",
      "1/1 [==============================] - 0s 13ms/step\n",
      "1/1 [==============================] - 0s 24ms/step\n",
      "1/1 [==============================] - 0s 19ms/step\n",
      "1/1 [==============================] - 0s 16ms/step\n",
      "1/1 [==============================] - 0s 25ms/step\n",
      "2/2 [==============================] - 0s 19ms/step\n",
      "1/1 [==============================] - 0s 32ms/step\n"
     ]
    },
    {
     "name": "stderr",
     "output_type": "stream",
     "text": [
      "\r",
      " 88%|████████████████████████████████████████████████████████████████████████▏         | 22/25 [00:29<00:03,  1.23s/it]"
     ]
    },
    {
     "name": "stdout",
     "output_type": "stream",
     "text": [
      "1/1 [==============================] - 0s 50ms/step\n",
      "1/1 [==============================] - 0s 37ms/step\n",
      "1/1 [==============================] - 0s 26ms/step\n",
      "1/1 [==============================] - 0s 27ms/step\n",
      "1/1 [==============================] - 0s 19ms/step\n",
      "1/1 [==============================] - 0s 12ms/step\n",
      "1/1 [==============================] - 0s 25ms/step\n",
      "1/1 [==============================] - 0s 14ms/step\n",
      "1/1 [==============================] - 0s 22ms/step\n",
      "1/1 [==============================] - 0s 34ms/step\n",
      "3/3 [==============================] - 0s 11ms/step\n",
      "1/1 [==============================] - 0s 21ms/step\n"
     ]
    },
    {
     "name": "stderr",
     "output_type": "stream",
     "text": [
      "\r",
      " 92%|███████████████████████████████████████████████████████████████████████████▍      | 23/25 [00:30<00:02,  1.23s/it]"
     ]
    },
    {
     "name": "stdout",
     "output_type": "stream",
     "text": [
      "1/1 [==============================] - 0s 52ms/step\n",
      "1/1 [==============================] - 0s 35ms/step\n",
      "1/1 [==============================] - 0s 31ms/step\n",
      "1/1 [==============================] - 0s 18ms/step\n",
      "1/1 [==============================] - 0s 22ms/step\n",
      "1/1 [==============================] - 0s 20ms/step\n",
      "1/1 [==============================] - 0s 18ms/step\n",
      "1/1 [==============================] - 0s 24ms/step\n",
      "1/1 [==============================] - 0s 25ms/step\n",
      "1/1 [==============================] - 0s 26ms/step\n",
      "3/3 [==============================] - 0s 8ms/step\n",
      "1/1 [==============================] - 0s 31ms/step\n"
     ]
    },
    {
     "name": "stderr",
     "output_type": "stream",
     "text": [
      "\r",
      " 96%|██████████████████████████████████████████████████████████████████████████████▋   | 24/25 [00:31<00:01,  1.23s/it]"
     ]
    },
    {
     "name": "stdout",
     "output_type": "stream",
     "text": [
      "1/1 [==============================] - 0s 42ms/step\n",
      "1/1 [==============================] - 0s 33ms/step\n",
      "1/1 [==============================] - 0s 19ms/step\n",
      "1/1 [==============================] - 0s 30ms/step\n",
      "1/1 [==============================] - 0s 13ms/step\n",
      "1/1 [==============================] - 0s 21ms/step\n",
      "1/1 [==============================] - 0s 15ms/step\n",
      "1/1 [==============================] - 0s 25ms/step\n",
      "1/1 [==============================] - 0s 23ms/step\n",
      "1/1 [==============================] - 0s 14ms/step\n",
      "3/3 [==============================] - 0s 8ms/step\n",
      "1/1 [==============================] - 0s 31ms/step\n"
     ]
    },
    {
     "name": "stderr",
     "output_type": "stream",
     "text": [
      "100%|██████████████████████████████████████████████████████████████████████████████████| 25/25 [00:32<00:00,  1.31s/it]\n"
     ]
    },
    {
     "name": "stdout",
     "output_type": "stream",
     "text": [
      "TASK COMPLETED\n",
      "-------------------\n"
     ]
    }
   ],
   "source": [
    "def Crete_Folder_Images(name,dir,tn):\n",
    "    # Creating directory in the file\n",
    "    if not os.path.exists(dir):\n",
    "        os.makedirs(dir)\n",
    "    else:\n",
    "        print('DIRECTORY with name %s EXIST'%name)\n",
    "    detector=mtcnn.MTCNN()\n",
    "    cam=cv2.VideoCapture(0)\n",
    "    size =(100, 100)\n",
    "    for i in tqdm(range(1, 1+ tn)):\n",
    "        ret,img=cam.read()\n",
    "        pixels=np.asarray(img)\n",
    "        faces=detector.detect_faces(img)\n",
    "        for res in faces:\n",
    "            bounding_box = res['box']\n",
    "            x=bounding_box[0]\n",
    "            y=bounding_box[1]\n",
    "            w=bounding_box[2]\n",
    "            h=bounding_box[3]\n",
    "            x1,y1=abs(x),abs(y)\n",
    "            x2,y2=x1+w,y1+h\n",
    "            face=pixels[y1:y2,x1:x2]\n",
    "            image=Image.fromarray(face)\n",
    "            image=image.resize(size)\n",
    "            face_array=np.asarray(image)\n",
    "            \n",
    "            cv2.imwrite(dir+'/'+str(name)+'_'+str(i)+'.jpg',face_array)  # FOR COLOR IMAGES\n",
    "            cv2.rectangle(img,(bounding_box[0], bounding_box[1]),(bounding_box[0]+bounding_box[2], bounding_box[1] + bounding_box[3]),(0,155,255),2)\n",
    "            #cv2.rectangle(img,(x,y),(x+w,y+h),(0,0,255),2)\n",
    "            cv2.waitKey(200)\n",
    "        cv2.putText(face_array,str(i),(25,25),cv2.FONT_HERSHEY_COMPLEX,1,(0,255,0),2)\n",
    "        cv2.imshow('DAtaset Creator',face_array)\n",
    "        #cv2.waitKey(1)\n",
    "    print('TASK COMPLETED')\n",
    "    cam.release()\n",
    "    cv2.destroyAllWindows()\n",
    "    print('-------------------')\n",
    "    \n",
    "name=input(\"Enter name: \")\n",
    "dir='images/'+name  \n",
    "Crete_Folder_Images(name,dir,25)\n"
   ]
  },
  {
   "cell_type": "code",
   "execution_count": 2,
   "metadata": {},
   "outputs": [],
   "source": [
    "def print_progress(val,val_len,folder,bar_size=20):\n",
    "    prog=\"#\"*round((val)*bar_size/val_len)+\" \"*round((val_len-(val))*bar_size/val_len)\n",
    "    if val==0:\n",
    "        print(\"\",end=\"\\n\")\n",
    "    else:\n",
    "        print(\"[%s] (%d samples)\\t label : %s \\t\\t\" % (prog,val+1,folder), end=\"\\r\")"
   ]
  },
  {
   "cell_type": "code",
   "execution_count": 3,
   "metadata": {},
   "outputs": [
    {
     "name": "stdout",
     "output_type": "stream",
     "text": [
      "\n",
      "[####################] (312 samples)\t label : Dhoni \t\t\n",
      "[####################] (491 samples)\t label : Messi \t\t\n",
      "[####################] (415 samples)\t label : Ronaldo \t\t\n",
      "[####################] (442 samples)\t label : Virat \t\t\r"
     ]
    }
   ],
   "source": [
    "dir='download/'\n",
    "names=[]\n",
    "images=[]\n",
    "for folder in os.listdir(dir):\n",
    "    files=os.listdir(os.path.join(dir,folder))\n",
    "    for i,name in enumerate(files):\n",
    "        img=cv2.imread(os.path.join(dir+folder,name))\n",
    "        cv2.cvtColor(img,cv2.COLOR_BGR2GRAY)\n",
    "        images.append(img)\n",
    "        names.append(folder)\n",
    "        print_progress(i,len(files),folder)"
   ]
  },
  {
   "cell_type": "code",
   "execution_count": 4,
   "metadata": {},
   "outputs": [
    {
     "name": "stdout",
     "output_type": "stream",
     "text": [
      "no:of samples : 1660\n"
     ]
    }
   ],
   "source": [
    "print(\"no:of samples :\",len(names))"
   ]
  },
  {
   "cell_type": "code",
   "execution_count": 8,
   "metadata": {},
   "outputs": [
    {
     "data": {
      "text/plain": [
       "<matplotlib.image.AxesImage at 0x1d79bb23370>"
      ]
     },
     "execution_count": 8,
     "metadata": {},
     "output_type": "execute_result"
    },
    {
     "data": {
      "image/png": "[encoded data removed]",
      "text/plain": [
       "<Figure size 640x480 with 1 Axes>"
      ]
     },
     "metadata": {},
     "output_type": "display_data"
    }
   ],
   "source": [
    "plt.imshow(images[10],cmap=\"gray\")"
   ]
  },
  {
   "cell_type": "code",
   "execution_count": 5,
   "metadata": {},
   "outputs": [],
   "source": [
    "le=LabelEncoder()\n",
    "le.fit(names)\n",
    "labels=le.classes_\n",
    "name_vec=le.transform(names)\n",
    "categorical_name_vec=to_categorical(name_vec)"
   ]
  },
  {
   "cell_type": "code",
   "execution_count": 6,
   "metadata": {},
   "outputs": [
    {
     "name": "stdout",
     "output_type": "stream",
     "text": [
      "no: classes : 4\n",
      "['Dhoni' 'Messi' 'Ronaldo' 'Virat']\n"
     ]
    }
   ],
   "source": [
    "print(\"no: classes :\",len(labels))\n",
    "print(labels)"
   ]
  },
  {
   "cell_type": "code",
   "execution_count": 7,
   "metadata": {},
   "outputs": [
    {
     "name": "stdout",
     "output_type": "stream",
     "text": [
      "[0 0 0 ... 3 3 3]\n"
     ]
    }
   ],
   "source": [
    "print(name_vec)"
   ]
  },
  {
   "cell_type": "code",
   "execution_count": 8,
   "metadata": {},
   "outputs": [
    {
     "name": "stdout",
     "output_type": "stream",
     "text": [
      "[[1. 0. 0. 0.]\n",
      " [1. 0. 0. 0.]\n",
      " [1. 0. 0. 0.]\n",
      " ...\n",
      " [0. 0. 0. 1.]\n",
      " [0. 0. 0. 1.]\n",
      " [0. 0. 0. 1.]]\n"
     ]
    }
   ],
   "source": [
    "print(categorical_name_vec)"
   ]
  },
  {
   "cell_type": "code",
   "execution_count": 5,
   "metadata": {},
   "outputs": [],
   "source": [
    "x_train,x_test,y_train,y_test=train_test_split(np.array(images,dtype=np.float32),np.array(categorical_name_vec),test_size=0.15,random_state=90)"
   ]
  },
  {
   "cell_type": "code",
   "execution_count": 11,
   "metadata": {},
   "outputs": [
    {
     "name": "stdout",
     "output_type": "stream",
     "text": [
      "(1411, 100, 100, 3) (249, 100, 100, 3) (1411, 4) (249, 4)\n"
     ]
    }
   ],
   "source": [
    "print(x_train.shape,x_test.shape,y_train.shape,y_test.shape)"
   ]
  },
  {
   "cell_type": "code",
   "execution_count": 6,
   "metadata": {},
   "outputs": [],
   "source": [
    "def cnn_model(input_shape):\n",
    "    model=Sequential()\n",
    "    \n",
    "    model.add(Conv2D(64,(3,3),padding=\"valid\",activation=\"relu\",input_shape=input_shape))\n",
    "    model.add(Conv2D(64,(3,3),padding=\"valid\",activation=\"relu\",input_shape=input_shape))\n",
    "    model.add(MaxPool2D(pool_size=(2,2)))\n",
    "    model.add(Conv2D(128,(3,3),padding=\"valid\",activation=\"relu\"))\n",
    "    model.add(Conv2D(128,(3,3),padding=\"valid\",activation=\"relu\"))\n",
    "    model.add(MaxPool2D(pool_size=(2,2)))\n",
    "    model.add(Flatten())\n",
    "    model.add(Dense(128,activation=\"relu\"))\n",
    "    model.add(Dense(64,activation=\"relu\"))\n",
    "    model.add(Dense(len(labels)))\n",
    "    model.add(Activation(\"softmax\"))\n",
    "    \n",
    "    model.summary()\n",
    "    model.compile(optimizer='adam',loss='categorical_crossentropy',metrics=['accuracy'])\n",
    "    \n",
    "    return model"
   ]
  },
  {
   "cell_type": "code",
   "execution_count": 13,
   "metadata": {},
   "outputs": [
    {
     "data": {
      "text/plain": [
       "(100, 100, 3)"
      ]
     },
     "execution_count": 13,
     "metadata": {},
     "output_type": "execute_result"
    }
   ],
   "source": [
    "x_train[0].shape"
   ]
  },
  {
   "cell_type": "code",
   "execution_count": 7,
   "metadata": {
    "scrolled": true
   },
   "outputs": [
    {
     "name": "stdout",
     "output_type": "stream",
     "text": [
      "Model: \"sequential\"\n",
      "_________________________________________________________________\n",
      " Layer (type)                Output Shape              Param #   \n",
      "=================================================================\n",
      " conv2d (Conv2D)             (None, 98, 98, 64)        1792      \n",
      "                                                                 \n",
      " conv2d_1 (Conv2D)           (None, 96, 96, 64)        36928     \n",
      "                                                                 \n",
      " max_pooling2d (MaxPooling2D  (None, 48, 48, 64)       0         \n",
      " )                                                               \n",
      "                                                                 \n",
      " conv2d_2 (Conv2D)           (None, 46, 46, 128)       73856     \n",
      "                                                                 \n",
      " conv2d_3 (Conv2D)           (None, 44, 44, 128)       147584    \n",
      "                                                                 \n",
      " max_pooling2d_1 (MaxPooling  (None, 22, 22, 128)      0         \n",
      " 2D)                                                             \n",
      "                                                                 \n",
      " flatten (Flatten)           (None, 61952)             0         \n",
      "                                                                 \n",
      " dense (Dense)               (None, 128)               7929984   \n",
      "                                                                 \n",
      " dense_1 (Dense)             (None, 64)                8256      \n",
      "                                                                 \n",
      " dense_2 (Dense)             (None, 4)                 260       \n",
      "                                                                 \n",
      " activation (Activation)     (None, 4)                 0         \n",
      "                                                                 \n",
      "=================================================================\n",
      "Total params: 8,198,660\n",
      "Trainable params: 8,198,660\n",
      "Non-trainable params: 0\n",
      "_________________________________________________________________\n",
      "Epoch 1/50\n",
      "38/38 [==============================] - 141s 4s/step - loss: 16.2378 - accuracy: 0.3311 - val_loss: 1.3807 - val_accuracy: 0.2783\n",
      "Epoch 2/50\n",
      "38/38 [==============================] - 143s 4s/step - loss: 1.3871 - accuracy: 0.3603 - val_loss: 1.3152 - val_accuracy: 0.4528\n",
      "Epoch 3/50\n",
      "38/38 [==============================] - 145s 4s/step - loss: 1.2930 - accuracy: 0.4153 - val_loss: 1.2522 - val_accuracy: 0.4670\n",
      "Epoch 4/50\n",
      "38/38 [==============================] - 146s 4s/step - loss: 1.2241 - accuracy: 0.4679 - val_loss: 1.2847 - val_accuracy: 0.4623\n",
      "Epoch 5/50\n",
      "38/38 [==============================] - 153s 4s/step - loss: 1.1685 - accuracy: 0.5079 - val_loss: 1.1200 - val_accuracy: 0.5660\n",
      "Epoch 6/50\n",
      "38/38 [==============================] - 141s 4s/step - loss: 0.9048 - accuracy: 0.6147 - val_loss: 1.2301 - val_accuracy: 0.5849\n",
      "Epoch 7/50\n",
      "38/38 [==============================] - 156s 4s/step - loss: 0.6616 - accuracy: 0.7348 - val_loss: 1.1058 - val_accuracy: 0.6509\n",
      "Epoch 8/50\n",
      "38/38 [==============================] - 146s 4s/step - loss: 0.5059 - accuracy: 0.8115 - val_loss: 1.2028 - val_accuracy: 0.6509\n",
      "Epoch 9/50\n",
      "38/38 [==============================] - 149s 4s/step - loss: 0.3486 - accuracy: 0.8807 - val_loss: 1.3498 - val_accuracy: 0.6745\n",
      "Epoch 10/50\n",
      "38/38 [==============================] - 165s 4s/step - loss: 0.2235 - accuracy: 0.9191 - val_loss: 1.7046 - val_accuracy: 0.7311\n",
      "Epoch 11/50\n",
      "38/38 [==============================] - 151s 4s/step - loss: 0.0863 - accuracy: 0.9766 - val_loss: 2.1816 - val_accuracy: 0.7500\n",
      "Epoch 12/50\n",
      "38/38 [==============================] - 142s 4s/step - loss: 0.0921 - accuracy: 0.9758 - val_loss: 1.5868 - val_accuracy: 0.7736\n",
      "Epoch 13/50\n",
      "38/38 [==============================] - 135s 4s/step - loss: 0.0780 - accuracy: 0.9741 - val_loss: 1.9664 - val_accuracy: 0.7642\n",
      "Epoch 14/50\n",
      "38/38 [==============================] - 141s 4s/step - loss: 0.1620 - accuracy: 0.9625 - val_loss: 1.8074 - val_accuracy: 0.7642\n",
      "Epoch 15/50\n",
      "38/38 [==============================] - 170s 4s/step - loss: 0.2933 - accuracy: 0.9158 - val_loss: 2.3648 - val_accuracy: 0.5943\n",
      "Epoch 16/50\n",
      "38/38 [==============================] - 172s 5s/step - loss: 0.3526 - accuracy: 0.8999 - val_loss: 1.5975 - val_accuracy: 0.6981\n",
      "Epoch 17/50\n",
      "38/38 [==============================] - 132s 3s/step - loss: 0.1172 - accuracy: 0.9666 - val_loss: 1.5652 - val_accuracy: 0.7453\n",
      "Epoch 18/50\n",
      "38/38 [==============================] - 135s 4s/step - loss: 0.0595 - accuracy: 0.9867 - val_loss: 2.3719 - val_accuracy: 0.6651\n",
      "Epoch 19/50\n",
      "38/38 [==============================] - 153s 4s/step - loss: 0.0261 - accuracy: 0.9933 - val_loss: 2.4704 - val_accuracy: 0.7123\n",
      "Epoch 20/50\n",
      "38/38 [==============================] - 121s 3s/step - loss: 0.0207 - accuracy: 0.9958 - val_loss: 2.6820 - val_accuracy: 0.7358\n",
      "Epoch 21/50\n",
      "38/38 [==============================] - 123s 3s/step - loss: 0.0060 - accuracy: 0.9992 - val_loss: 2.5943 - val_accuracy: 0.7642\n",
      "Epoch 22/50\n",
      "38/38 [==============================] - 119s 3s/step - loss: 0.0025 - accuracy: 1.0000 - val_loss: 2.7686 - val_accuracy: 0.7406\n",
      "Epoch 23/50\n",
      "38/38 [==============================] - 138s 4s/step - loss: 0.0013 - accuracy: 1.0000 - val_loss: 2.9173 - val_accuracy: 0.7500\n",
      "Epoch 24/50\n",
      "38/38 [==============================] - 105s 3s/step - loss: 7.9211e-04 - accuracy: 1.0000 - val_loss: 3.1264 - val_accuracy: 0.7453\n",
      "Epoch 25/50\n",
      "38/38 [==============================] - 107s 3s/step - loss: 5.1237e-04 - accuracy: 1.0000 - val_loss: 3.3059 - val_accuracy: 0.7453\n",
      "Epoch 26/50\n",
      "38/38 [==============================] - 112s 3s/step - loss: 3.3331e-04 - accuracy: 1.0000 - val_loss: 3.4703 - val_accuracy: 0.7406\n",
      "Epoch 27/50\n",
      "38/38 [==============================] - 115s 3s/step - loss: 2.4186e-04 - accuracy: 1.0000 - val_loss: 3.6992 - val_accuracy: 0.7406\n",
      "Epoch 28/50\n",
      "38/38 [==============================] - 123s 3s/step - loss: 1.5726e-04 - accuracy: 1.0000 - val_loss: 3.8410 - val_accuracy: 0.7406\n",
      "Epoch 29/50\n",
      "38/38 [==============================] - 118s 3s/step - loss: 1.1833e-04 - accuracy: 1.0000 - val_loss: 4.0672 - val_accuracy: 0.7406\n",
      "Epoch 30/50\n",
      "38/38 [==============================] - 123s 3s/step - loss: 8.5764e-05 - accuracy: 1.0000 - val_loss: 4.1962 - val_accuracy: 0.7406\n",
      "Epoch 31/50\n",
      "38/38 [==============================] - 114s 3s/step - loss: 6.6153e-05 - accuracy: 1.0000 - val_loss: 4.3390 - val_accuracy: 0.7358\n",
      "Epoch 32/50\n",
      "38/38 [==============================] - 117s 3s/step - loss: 5.0551e-05 - accuracy: 1.0000 - val_loss: 4.4958 - val_accuracy: 0.7358\n",
      "Epoch 33/50\n",
      "38/38 [==============================] - 114s 3s/step - loss: 3.7790e-05 - accuracy: 1.0000 - val_loss: 4.7472 - val_accuracy: 0.7311\n",
      "Epoch 34/50\n",
      "38/38 [==============================] - 108s 3s/step - loss: 2.3437e-05 - accuracy: 1.0000 - val_loss: 5.0010 - val_accuracy: 0.7264\n",
      "Epoch 35/50\n",
      "38/38 [==============================] - 110s 3s/step - loss: 1.5640e-05 - accuracy: 1.0000 - val_loss: 5.1325 - val_accuracy: 0.7264\n",
      "Epoch 36/50\n",
      "38/38 [==============================] - 113s 3s/step - loss: 1.4339e-05 - accuracy: 1.0000 - val_loss: 5.1584 - val_accuracy: 0.7264\n",
      "Epoch 37/50\n",
      "38/38 [==============================] - 113s 3s/step - loss: 1.2317e-05 - accuracy: 1.0000 - val_loss: 5.2352 - val_accuracy: 0.7264\n",
      "Epoch 38/50\n",
      "38/38 [==============================] - 115s 3s/step - loss: 1.1121e-05 - accuracy: 1.0000 - val_loss: 5.2717 - val_accuracy: 0.7264\n",
      "Epoch 39/50\n",
      "38/38 [==============================] - 118s 3s/step - loss: 9.5076e-06 - accuracy: 1.0000 - val_loss: 5.2816 - val_accuracy: 0.7264\n",
      "Epoch 40/50\n",
      "38/38 [==============================] - 119s 3s/step - loss: 8.8202e-06 - accuracy: 1.0000 - val_loss: 5.3266 - val_accuracy: 0.7264\n",
      "Epoch 41/50\n",
      "38/38 [==============================] - 117s 3s/step - loss: 7.8175e-06 - accuracy: 1.0000 - val_loss: 5.3484 - val_accuracy: 0.7311\n",
      "Epoch 42/50\n",
      "38/38 [==============================] - 104s 3s/step - loss: 7.4894e-06 - accuracy: 1.0000 - val_loss: 5.3754 - val_accuracy: 0.7311\n",
      "Epoch 43/50\n",
      "38/38 [==============================] - 103s 3s/step - loss: 6.9171e-06 - accuracy: 1.0000 - val_loss: 5.4282 - val_accuracy: 0.7311\n",
      "Epoch 44/50\n"
     ]
    },
    {
     "name": "stdout",
     "output_type": "stream",
     "text": [
      "38/38 [==============================] - 104s 3s/step - loss: 6.4448e-06 - accuracy: 1.0000 - val_loss: 5.4457 - val_accuracy: 0.7264\n",
      "Epoch 45/50\n",
      "38/38 [==============================] - 104s 3s/step - loss: 5.8881e-06 - accuracy: 1.0000 - val_loss: 5.5370 - val_accuracy: 0.7264\n",
      "Epoch 46/50\n",
      "38/38 [==============================] - 110s 3s/step - loss: 5.4395e-06 - accuracy: 1.0000 - val_loss: 5.5543 - val_accuracy: 0.7311\n",
      "Epoch 47/50\n",
      "38/38 [==============================] - 106s 3s/step - loss: 5.0456e-06 - accuracy: 1.0000 - val_loss: 5.5851 - val_accuracy: 0.7311\n",
      "Epoch 48/50\n",
      "38/38 [==============================] - 113s 3s/step - loss: 4.7911e-06 - accuracy: 1.0000 - val_loss: 5.5958 - val_accuracy: 0.7311\n",
      "Epoch 49/50\n",
      "38/38 [==============================] - 120s 3s/step - loss: 4.5142e-06 - accuracy: 1.0000 - val_loss: 5.6604 - val_accuracy: 0.7311\n",
      "Epoch 50/50\n",
      "38/38 [==============================] - 113s 3s/step - loss: 4.2721e-06 - accuracy: 1.0000 - val_loss: 5.6537 - val_accuracy: 0.7311\n"
     ]
    }
   ],
   "source": [
    "input_shape=x_train[0].shape\n",
    "EPOCHS=50\n",
    "BATCH_SIZE=32\n",
    "\n",
    "model=cnn_model(input_shape)\n",
    "history=model.fit(x_train,y_train,epochs=EPOCHS,batch_size=BATCH_SIZE,shuffle=True,validation_split=0.15)"
   ]
  },
  {
   "cell_type": "code",
   "execution_count": 10,
   "metadata": {},
   "outputs": [],
   "source": [
    "import os.path\n",
    "model.save('fras.h5')"
   ]
  },
  {
   "cell_type": "code",
   "execution_count": 9,
   "metadata": {},
   "outputs": [],
   "source": [
    "from tensorflow.keras.models import load_model\n",
    "n=load_model('fras.h5')\n"
   ]
  },
  {
   "cell_type": "code",
   "execution_count": 10,
   "metadata": {},
   "outputs": [
    {
     "name": "stdout",
     "output_type": "stream",
     "text": [
      "8/8 [==============================] - 8s 799ms/step - loss: 2.5425 - accuracy: 0.9076\n",
      "Test: accuracy = 0.907631  ;  loss = 2.542516\n",
      "8/8 [==============================] - 6s 704ms/step - loss: 1.4467 - accuracy: 0.9398\n",
      "Test: accuracy = 0.939759  ;  loss = 1.446731\n",
      "8/8 [==============================] - 7s 890ms/step - loss: 2.0676 - accuracy: 0.9197\n",
      "Test: accuracy = 0.919679  ;  loss = 2.067641\n",
      "8/8 [==============================] - 8s 933ms/step - loss: 2.4026 - accuracy: 0.9116\n",
      "Test: accuracy = 0.911647  ;  loss = 2.402624\n",
      "8/8 [==============================] - 8s 1s/step - loss: 1.0501 - accuracy: 0.9317\n",
      "Test: accuracy = 0.931727  ;  loss = 1.050058\n",
      "8/8 [==============================] - 10s 1s/step - loss: 1.7420 - accuracy: 0.9357\n",
      "Test: accuracy = 0.935743  ;  loss = 1.742026\n",
      "8/8 [==============================] - 9s 1s/step - loss: 0.8763 - accuracy: 0.9518\n",
      "Test: accuracy = 0.951807  ;  loss = 0.876299\n",
      "8/8 [==============================] - 7s 845ms/step - loss: 1.2988 - accuracy: 0.9438\n",
      "Test: accuracy = 0.943775  ;  loss = 1.298841\n",
      "8/8 [==============================] - 9s 1s/step - loss: 1.1235 - accuracy: 0.9317\n",
      "Test: accuracy = 0.931727  ;  loss = 1.123512\n",
      "8/8 [==============================] - 8s 987ms/step - loss: 0.8459 - accuracy: 0.9598\n",
      "Test: accuracy = 0.959839  ;  loss = 0.845897\n"
     ]
    }
   ],
   "source": [
    "for i in range(10):\n",
    "    r=i*10\n",
    "    x_train,x_test,y_train,y_test=train_test_split(np.array(images,dtype=np.float32),np.array(categorical_name_vec),test_size=0.15,random_state=r)\n",
    "    loss, accuracy = n.evaluate(x_test, y_test, verbose=1)\n",
    "    print(\"Test: accuracy = %f  ;  loss = %f\" % (accuracy, loss))"
   ]
  },
  {
   "cell_type": "code",
   "execution_count": 18,
   "metadata": {},
   "outputs": [
    {
     "data": {
      "text/plain": [
       "'0.7630522088353414'"
      ]
     },
     "execution_count": 18,
     "metadata": {},
     "output_type": "execute_result"
    }
   ],
   "source": [
    "s=str(np.equal(np.argmax(y_test, axis=-1), np.argmax(y, axis=-1)).mean())\n",
    "s"
   ]
  },
  {
   "cell_type": "code",
   "execution_count": 42,
   "metadata": {},
   "outputs": [
    {
     "data": {
      "image/png": "[encoded data removed]",
      "text/plain": [
       "<Figure size 640x480 with 1 Axes>"
      ]
     },
     "metadata": {},
     "output_type": "display_data"
    },
    {
     "data": {
      "image/png": "[encoded data removed]",
      "text/plain": [
       "<Figure size 640x480 with 1 Axes>"
      ]
     },
     "metadata": {},
     "output_type": "display_data"
    }
   ],
   "source": [
    "def evaluate_model(history):\n",
    "    names=[['accuracy','val_accuracy'],['loss','val_loss']]\n",
    "    for name in names:\n",
    "        fig1,ax_acc=plt.subplots()\n",
    "        plt.plot(history.history[name[0]])\n",
    "        plt.plot(history.history[name[1]])\n",
    "        plt.xlabel('Epoch')\n",
    "        plt.ylabel(name[0])\n",
    "        plt.title(\"model - \"+name[0])\n",
    "        plt.legend(['Training','Validation'],loc='lower right')\n",
    "        plt.grid()\n",
    "        plt.show()\n",
    "\n",
    "evaluate_model(history)"
   ]
  },
  {
   "cell_type": "code",
   "execution_count": 45,
   "metadata": {},
   "outputs": [
    {
     "name": "stdout",
     "output_type": "stream",
     "text": [
      "1/1 [==============================] - 2s 2s/step\n",
      "WARNING:tensorflow:5 out of the last 229 calls to <function Model.make_predict_function.<locals>.predict_function at 0x000001E683DF38B0> triggered tf.function retracing. Tracing is expensive and the excessive number of tracings could be due to (1) creating @tf.function repeatedly in a loop, (2) passing tensors with different shapes, (3) passing Python objects instead of tensors. For (1), please define your @tf.function outside of the loop. For (2), @tf.function has reduce_retracing=True option that can avoid unnecessary retracing. For (3), please refer to https://www.tensorflow.org/guide/function#controlling_retracing and https://www.tensorflow.org/api_docs/python/tf/function for  more details.\n",
      "1/1 [==============================] - 1s 951ms/step\n",
      "1/1 [==============================] - 0s 441ms/step\n",
      "1/1 [==============================] - 0s 209ms/step\n",
      "1/1 [==============================] - 0s 111ms/step\n",
      "1/1 [==============================] - 0s 78ms/step\n",
      "1/1 [==============================] - 0s 52ms/step\n",
      "1/1 [==============================] - 0s 30ms/step\n",
      "1/1 [==============================] - 0s 29ms/step\n",
      "1/1 [==============================] - 0s 22ms/step\n",
      "1/1 [==============================] - 0s 31ms/step\n",
      "1/1 [==============================] - 0s 26ms/step\n",
      "1/1 [==============================] - 0s 29ms/step\n",
      "1/1 [==============================] - 0s 22ms/step\n",
      "1/1 [==============================] - 0s 36ms/step\n",
      "224/224 [==============================] - 2s 9ms/step\n",
      "2/2 [==============================] - 0s 11ms/step\n"
     ]
    }
   ],
   "source": [
    "import mtcnn\n",
    "size =(100, 100)\n",
    "detector=mtcnn.MTCNN()\n",
    "img=cv2.imread('testing/download.jpg')\n",
    "cv2.cvtColor(img,cv2.COLOR_BGR2GRAY)\n",
    "pixels=np.asarray(img)\n",
    "faces=detector.detect_faces(img)\n",
    "for res in faces:            \n",
    "    bounding_box = res['box']\n",
    "    x=bounding_box[0]\n",
    "    y=bounding_box[1]\n",
    "    w=bounding_box[2]\n",
    "    h=bounding_box[3]\n",
    "    x1,y1=abs(x),abs(y)\n",
    "    x2,y2=x1+w,y1+h\n",
    "    face=pixels[y1:y2,x1:x2]\n",
    "    face_img=cv2.resize(face,(100,100))\n",
    "    face_img=face_img.reshape(1,100,100,3)\n",
    "    \n",
    "\n",
    "\n",
    "\n"
   ]
  },
  {
   "cell_type": "code",
   "execution_count": 46,
   "metadata": {},
   "outputs": [
    {
     "name": "stdout",
     "output_type": "stream",
     "text": [
      "1/1 [==============================] - 0s 123ms/step\n",
      "['Vyshnav']\n"
     ]
    }
   ],
   "source": [
    "result=model.predict(face_img)\n",
    "idx=result.argmax(axis=1)\n",
    "label_text=labels[idx]\n",
    "print(label_text)"
   ]
  },
  {
   "cell_type": "code",
   "execution_count": null,
   "metadata": {},
   "outputs": [
    {
     "name": "stdout",
     "output_type": "stream",
     "text": [
      "1/1 [==============================] - 0s 299ms/step\n",
      "1/1 [==============================] - 0s 266ms/step\n",
      "1/1 [==============================] - 0s 78ms/step\n",
      "1/1 [==============================] - 0s 47ms/step\n",
      "1/1 [==============================] - 0s 63ms/step\n",
      "1/1 [==============================] - 0s 63ms/step\n",
      "1/1 [==============================] - 0s 63ms/step\n",
      "1/1 [==============================] - 0s 63ms/step\n",
      "1/1 [==============================] - 0s 63ms/step\n",
      "1/1 [==============================] - 0s 63ms/step\n",
      "6/6 [==============================] - 0s 13ms/step\n",
      "1/1 [==============================] - 0s 361ms/step\n",
      "1/1 [==============================] - 0s 94ms/step\n",
      "1/1 [==============================] - 0s 94ms/step\n",
      "1/1 [==============================] - 0s 94ms/step\n"
     ]
    }
   ],
   "source": [
    "import mtcnn\n",
    "size =(100, 100)\n",
    "detector=mtcnn.MTCNN()\n",
    "img=cv2.imread('testing/d.png')\n",
    "cv2.cvtColor(img,cv2.COLOR_BGR2GRAY)\n",
    "faces=detector.detect_faces(img)\n",
    "\n",
    "\n",
    "for face in faces:            \n",
    "    x, y, w, h = face['box']\n",
    "    face_cropped = img[y:y+h, x:x+w]\n",
    "    face_img=cv2.resize(face_cropped,(100,100))\n",
    "    face_img=face_img.reshape(1,100,100,3)\n",
    "    result=n.predict(face_img)\n",
    "    idx=result.argmax(axis=1)\n",
    "    label_text=labels[idx]\n",
    "    \n",
    "    cv2.rectangle(img,(x,y),(x+w,y+h),(255,0,0), thickness=2)\n",
    "    cv2.putText(img,str(label_text),(x,y-10),cv2.FONT_HERSHEY_PLAIN,1,(0,255,0),2)\n",
    "cv2.imshow('Result',img)\n",
    "cv2.waitKey(10000)\n",
    "    \n",
    "cv2.destroyAllWindows()\n",
    "\n",
    "\n"
   ]
  },
  {
   "cell_type": "code",
   "execution_count": null,
   "metadata": {},
   "outputs": [],
   "source": []
  }
 ],
 "metadata": {
  "kernelspec": {
   "display_name": "Python 3 (ipykernel)",
   "language": "python",
   "name": "python3"
  },
  "language_info": {
   "codemirror_mode": {
    "name": "ipython",
    "version": 3
   },
   "file_extension": ".py",
   "mimetype": "text/x-python",
   "name": "python",
   "nbconvert_exporter": "python",
   "pygments_lexer": "ipython3",
   "version": "3.9.13"
  }
 },
 "nbformat": 4,
 "nbformat_minor": 4
}
