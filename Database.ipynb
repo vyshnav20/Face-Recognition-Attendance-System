{
 "cells": [
  {
   "cell_type": "code",
   "execution_count": 2,
   "id": "c87e04fe",
   "metadata": {},
   "outputs": [],
   "source": [
    "import cv2\n",
    "import numpy as np\n",
    "import os\n",
    "from tqdm import tqdm\n",
    "import mtcnn\n",
    "from PIL import Image\n",
    "import pandas as pd\n",
    "import itertools\n",
    "import matplotlib.pyplot as plt\n",
    "\n",
    "from sklearn.preprocessing import LabelEncoder\n",
    "from sklearn.model_selection import train_test_split\n",
    "from sklearn.metrics import classification_report\n",
    "from sklearn.metrics import confusion_matrix\n",
    "import keras\n",
    "from keras.models import Sequential,Model\n",
    "from keras.layers import Dense,Activation,Input\n",
    "from keras.utils import to_categorical\n",
    "from keras.layers import Conv2D, MaxPool2D, Flatten"
   ]
  },
  {
   "cell_type": "code",
   "execution_count": 4,
   "id": "8a312784",
   "metadata": {},
   "outputs": [
    {
     "name": "stderr",
     "output_type": "stream",
     "text": [
      "\r",
      "  0%|                                                                                            | 0/3 [00:00<?, ?it/s]"
     ]
    },
    {
     "name": "stdout",
     "output_type": "stream",
     "text": [
      "1/1 [==============================] - 0s 210ms/step\n",
      "1/1 [==============================] - 0s 127ms/step\n",
      "1/1 [==============================] - 0s 41ms/step\n",
      "1/1 [==============================] - 0s 30ms/step\n",
      "1/1 [==============================] - 0s 30ms/step\n",
      "1/1 [==============================] - 0s 24ms/step\n",
      "1/1 [==============================] - 0s 28ms/step\n",
      "1/1 [==============================] - 0s 33ms/step\n",
      "1/1 [==============================] - 0s 28ms/step\n",
      "1/1 [==============================] - 0s 30ms/step\n",
      "3/3 [==============================] - 0s 9ms/step\n",
      "1/1 [==============================] - 0s 190ms/step\n"
     ]
    },
    {
     "name": "stderr",
     "output_type": "stream",
     "text": [
      "\r",
      " 33%|████████████████████████████                                                        | 1/3 [00:02<00:05,  2.67s/it]"
     ]
    },
    {
     "name": "stdout",
     "output_type": "stream",
     "text": [
      "1/1 [==============================] - 0s 62ms/step\n",
      "1/1 [==============================] - 0s 41ms/step\n",
      "1/1 [==============================] - 0s 34ms/step\n",
      "1/1 [==============================] - 0s 29ms/step\n",
      "1/1 [==============================] - 0s 27ms/step\n",
      "1/1 [==============================] - 0s 23ms/step\n",
      "1/1 [==============================] - 0s 33ms/step\n",
      "1/1 [==============================] - 0s 22ms/step\n",
      "1/1 [==============================] - 0s 20ms/step\n",
      "1/1 [==============================] - 0s 37ms/step\n",
      "3/3 [==============================] - 0s 4ms/step\n",
      "1/1 [==============================] - 0s 32ms/step\n"
     ]
    },
    {
     "name": "stderr",
     "output_type": "stream",
     "text": [
      "\r",
      " 67%|████████████████████████████████████████████████████████                            | 2/3 [00:04<00:01,  1.90s/it]"
     ]
    },
    {
     "name": "stdout",
     "output_type": "stream",
     "text": [
      "1/1 [==============================] - 0s 60ms/step\n",
      "1/1 [==============================] - 0s 37ms/step\n",
      "1/1 [==============================] - 0s 38ms/step\n",
      "1/1 [==============================] - 0s 28ms/step\n",
      "1/1 [==============================] - 0s 30ms/step\n",
      "1/1 [==============================] - 0s 26ms/step\n",
      "1/1 [==============================] - 0s 26ms/step\n",
      "1/1 [==============================] - 0s 30ms/step\n",
      "1/1 [==============================] - 0s 28ms/step\n",
      "1/1 [==============================] - 0s 28ms/step\n",
      "3/3 [==============================] - 0s 5ms/step\n",
      "1/1 [==============================] - 0s 24ms/step\n"
     ]
    },
    {
     "name": "stderr",
     "output_type": "stream",
     "text": [
      "100%|████████████████████████████████████████████████████████████████████████████████████| 3/3 [00:05<00:00,  1.79s/it]\n"
     ]
    },
    {
     "name": "stdout",
     "output_type": "stream",
     "text": [
      "TASK COMPLETED\n"
     ]
    }
   ],
   "source": [
    "def s(name,dir,tn):\n",
    "    # Creating directory in the file\n",
    "   \n",
    "    detector=mtcnn.MTCNN()\n",
    "    cam=cv2.VideoCapture(0)\n",
    "    size =(100, 100)\n",
    "    \n",
    "    for i in tqdm(range(1, 1+ tn)):\n",
    "        ret,img=cam.read()\n",
    "        pixels=np.asarray(img)\n",
    "        faces=detector.detect_faces(img)\n",
    "        if len(faces) > 0:\n",
    "            for res in faces:\n",
    "                bounding_box = res['box']\n",
    "                x=bounding_box[0]\n",
    "                y=bounding_box[1]\n",
    "                w=bounding_box[2]\n",
    "                h=bounding_box[3]\n",
    "                x1,y1=abs(x),abs(y)\n",
    "                x2,y2=x1+w,y1+h\n",
    "                face=pixels[y1:y2,x1:x2]\n",
    "                image=Image.fromarray(face)\n",
    "                image=image.resize(size)\n",
    "                face_array=np.asarray(image)\n",
    "\n",
    "                cv2.imwrite(dir+'/'+str(name)+'_'+str(i)+'.jpg',face_array)  # FOR COLOR IMAGES\n",
    "                cv2.putText(img,str(i),(25,25),cv2.FONT_HERSHEY_COMPLEX,1,(0,255,0),2)\n",
    "                cv2.imshow('DAtaset Creator',img)\n",
    "                cv2.waitKey(200)\n",
    "            \n",
    "            \n",
    "            \n",
    "            \n",
    "            cv2.waitKey(1)\n",
    "    cam.release()\n",
    "    cv2.destroyAllWindows()\n",
    "    print('TASK COMPLETED')\n",
    "\n",
    "dir='images/'+\"Vyshnav\"\n",
    "s(\"Vyshnav\",dir,3)"
   ]
  },
  {
   "cell_type": "code",
   "execution_count": null,
   "id": "d49ada4c",
   "metadata": {},
   "outputs": [],
   "source": [
    "detector=mtcnn.MTCNN()\n",
    "    cam=cv2.VideoCapture(0)\n",
    "    size =(100, 100)\n",
    "    \n",
    "    for i in tqdm(range(1, 1+ tn)):\n",
    "        ret,img=cam.read()\n",
    "        pixels=np.asarray(img)\n",
    "        faces=detector.detect_faces(img)\n",
    "        for res in faces:\n",
    "                bounding_box = res['box']\n",
    "                x=bounding_box[0]\n",
    "                y=bounding_box[1]\n",
    "                w=bounding_box[2]\n",
    "                h=bounding_box[3]\n",
    "                x1,y1=abs(x),abs(y)\n",
    "                x2,y2=x1+w,y1+h\n",
    "                face=pixels[y1:y2,x1:x2]\n",
    "                image=Image.fromarray(face)\n",
    "                image=image.resize(size)\n",
    "                face_array=np.asarray(image)\n",
    "                face_path=dir+'/'+str(name)+'_'+str(i)+'.jpg'\n",
    "\n",
    "                cv2.imwrite(face_path,face_array)  # FOR COLOR IMAGES\n",
    "                cv2.putText(img,str(i),(25,25),cv2.FONT_HERSHEY_COMPLEX,1,(0,255,0),2)\n",
    "                cv2.imshow('DAtaset Creator',img)\n",
    "                cv2.waitKey(200)\n",
    "            \n",
    "            \n",
    "            \n",
    "            \n",
    "        cv2.waitKey(1)\n",
    "    cam.release()\n",
    "    cv2.destroyAllWindows()\n",
    "    print('TASK COMPLETED')"
   ]
  }
 ],
 "metadata": {
  "kernelspec": {
   "display_name": "Python 3 (ipykernel)",
   "language": "python",
   "name": "python3"
  },
  "language_info": {
   "codemirror_mode": {
    "name": "ipython",
    "version": 3
   },
   "file_extension": ".py",
   "mimetype": "text/x-python",
   "name": "python",
   "nbconvert_exporter": "python",
   "pygments_lexer": "ipython3",
   "version": "3.9.13"
  }
 },
 "nbformat": 4,
 "nbformat_minor": 5
}
